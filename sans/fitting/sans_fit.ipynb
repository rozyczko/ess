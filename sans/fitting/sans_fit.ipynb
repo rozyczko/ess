{
 "cells": [
  {
   "cell_type": "code",
   "execution_count": null,
   "metadata": {},
   "outputs": [],
   "source": [
    "from sasmodels.core import load_model\n",
    "from sasmodels.bumps_model import Model, Experiment\n",
    "\n",
    "from sasmodels.data import load_data\n",
    "\n",
    "from bumps.names import *\n",
    "from bumps.fitters import fit\n",
    "from bumps.formatnum import format_uncertainty"
   ]
  },
  {
   "cell_type": "markdown",
   "metadata": {},
   "source": [
    "**Import data as file**"
   ]
  },
  {
   "cell_type": "code",
   "execution_count": null,
   "metadata": {},
   "outputs": [],
   "source": [
    "import pylab\n",
    "\n",
    "test_data_load = load_data('cyl_400_20.txt')\n",
    "\n",
    "#We set some errors for demonstration\n",
    "test_data_load.dy = 0.2*test_data_load.y\n",
    "\n",
    "test_data_load"
   ]
  },
  {
   "cell_type": "markdown",
   "metadata": {},
   "source": [
    "**Prepare scipp Dataset test structure (1D)**"
   ]
  },
  {
   "cell_type": "code",
   "execution_count": null,
   "metadata": {},
   "outputs": [],
   "source": [
    "import scipp as sc\n",
    "import numpy as np\n",
    "var_q = sc.Variable(\n",
    "        dims=['Q'],\n",
    "        unit=sc.units.one/sc.units.angstrom,\n",
    "        values=test_data_load.x)\n",
    "var_iq = sc.Variable(\n",
    "        dims=['Q'],\n",
    "        unit=sc.units.one/sc.units.m,\n",
    "        values=test_data_load.y)\n",
    "\n",
    "var_dy = sc.Variable(\n",
    "        dims=['Q'],\n",
    "        unit=sc.units.one/sc.units.m,\n",
    "        values=test_data_load.dy)\n",
    "\n",
    "test_sc_dataset = sc.Dataset(\n",
    "      {'I(Q)': var_iq, 'dy': var_dy},\n",
    "      coords={'Q': var_q}\n",
    ")\n",
    "\n",
    "test_sc_dataset"
   ]
  },
  {
   "cell_type": "markdown",
   "metadata": {},
   "source": [
    "**Import data as SCIPP data array**"
   ]
  },
  {
   "cell_type": "code",
   "execution_count": null,
   "metadata": {},
   "outputs": [],
   "source": [
    "from sas.sascalc.dataloader.scipp import convert_dataset\n",
    "test_data = convert_dataset(test_sc_dataset)"
   ]
  },
  {
   "cell_type": "markdown",
   "metadata": {},
   "source": [
    "**Set up the model**"
   ]
  },
  {
   "cell_type": "code",
   "execution_count": null,
   "metadata": {},
   "outputs": [],
   "source": [
    "kernel = load_model('cylinder')\n",
    "pars = dict(radius=35, \n",
    "            length=350,\n",
    "            background=0.0,\n",
    "            scale=1.0,\n",
    "            sld=4.0,\n",
    "            sld_solvent=1.0)\n",
    "model = Model(kernel, **pars)\n",
    "\n",
    "# SET THE FITTING PARAMETERS\n",
    "model.radius.range(1, 50)\n",
    "model.length.range(1, 500)\n"
   ]
  },
  {
   "cell_type": "markdown",
   "metadata": {},
   "source": [
    "**Set up the fit problem with test data and our model**"
   ]
  },
  {
   "cell_type": "code",
   "execution_count": null,
   "metadata": {},
   "outputs": [],
   "source": [
    "M = Experiment(data=test_data, model=model)\n",
    "problem = FitProblem(M)\n",
    "print(\"Initial chisq\", problem.chisq_str())\n",
    "problem.plot()\n",
    "pylab.show()"
   ]
  },
  {
   "cell_type": "markdown",
   "metadata": {},
   "source": [
    "**Run the fitting with BUMPS**"
   ]
  },
  {
   "cell_type": "code",
   "execution_count": null,
   "metadata": {},
   "outputs": [],
   "source": [
    "result = fit(problem, method='amoeba')\n",
    "print(\"Final chisq\", problem.chisq_str())"
   ]
  },
  {
   "cell_type": "markdown",
   "metadata": {},
   "source": [
    "**Show the fit results**"
   ]
  },
  {
   "cell_type": "code",
   "execution_count": null,
   "metadata": {},
   "outputs": [],
   "source": [
    "for k, v, dv in zip(problem.labels(), result.x, result.dx):\n",
    "    print(k, \":\", format_uncertainty(v, dv))\n",
    "problem.plot()\n",
    "pylab.show()"
   ]
  }
 ],
 "metadata": {
  "kernelspec": {
   "display_name": "Python 3",
   "language": "python",
   "name": "python3"
  },
  "language_info": {
   "codemirror_mode": {
    "name": "ipython",
    "version": 3
   },
   "file_extension": ".py",
   "mimetype": "text/x-python",
   "name": "python",
   "nbconvert_exporter": "python",
   "pygments_lexer": "ipython3",
   "version": "3.7.7"
  }
 },
 "nbformat": 4,
 "nbformat_minor": 4
}
